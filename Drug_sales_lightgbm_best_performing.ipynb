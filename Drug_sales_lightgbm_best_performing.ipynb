{
  "nbformat": 4,
  "nbformat_minor": 0,
  "metadata": {
    "colab": {
      "name": "Drug_sales_lightgbm.ipynb",
      "provenance": [],
      "collapsed_sections": []
    },
    "kernelspec": {
      "name": "python3",
      "display_name": "Python 3"
    }
  },
  "cells": [
    {
      "cell_type": "markdown",
      "metadata": {
        "id": "FJEkQLwcamzk"
      },
      "source": [
        "##The dataset contains medicine in stock, sales for 10+ cities in india for different stores along with year, month, day value.\r\n",
        " The task is to forecast sales for 31 days after the last month data present in trainig dataset for different stores in different cities present in test dataset."
      ]
    },
    {
      "cell_type": "code",
      "metadata": {
        "colab": {
          "base_uri": "https://localhost:8080/"
        },
        "id": "Bspsm1F5efnK",
        "outputId": "5142a6bd-d7f5-4c4b-caec-ed515ccf1533"
      },
      "source": [
        "from google.colab import drive\r\n",
        "drive.mount('/content/drive')"
      ],
      "execution_count": null,
      "outputs": [
        {
          "output_type": "stream",
          "text": [
            "Drive already mounted at /content/drive; to attempt to forcibly remount, call drive.mount(\"/content/drive\", force_remount=True).\n"
          ],
          "name": "stdout"
        }
      ]
    },
    {
      "cell_type": "markdown",
      "metadata": {
        "id": "PWxgFKnOTXPe"
      },
      "source": [
        "#**Load datasets**"
      ]
    },
    {
      "cell_type": "code",
      "metadata": {
        "id": "gpTzpX1Wembq"
      },
      "source": [
        "train_csv = '/content/drive/MyDrive/Drug_sales/train_data.csv' \r\n",
        "test_csv = '/content/drive/MyDrive/Drug_sales/test_data.csv'"
      ],
      "execution_count": null,
      "outputs": []
    },
    {
      "cell_type": "code",
      "metadata": {
        "colab": {
          "base_uri": "https://localhost:8080/"
        },
        "id": "79eU6vmleds8",
        "outputId": "ff9eeb65-9b9c-4956-e08d-405676dd59ff"
      },
      "source": [
        "import pandas as pd\r\n",
        "import datetime\r\n",
        "from sklearn.metrics import mean_squared_error\r\n",
        "\r\n",
        "print('Loading data...')\r\n",
        "# load or create your dataset\r\n",
        "df = pd.read_csv(train_csv)\r\n",
        "df_test = pd.read_csv(test_csv)"
      ],
      "execution_count": null,
      "outputs": [
        {
          "output_type": "stream",
          "text": [
            "Loading data...\n"
          ],
          "name": "stdout"
        }
      ]
    },
    {
      "cell_type": "markdown",
      "metadata": {
        "id": "7MjBm4_yTdOU"
      },
      "source": [
        "#**Declare other time parameters and create new parameters/features.**"
      ]
    },
    {
      "cell_type": "code",
      "metadata": {
        "id": "JLtE4nsjuHgS"
      },
      "source": [
        "## I created datetime object to play with frequency. However it is not needed here. Hence commented.\r\n",
        "date_time = pd.to_datetime(df[['year','month','day']])\r\n",
        "df['Date'] = date_time\r\n",
        "#discount_data['date'] = pd.to_datetime(discount_data['date'])\r\n",
        "df['day_of_week'] = df['Date'].dt.weekday\r\n",
        "#df['week_of_year'] = df['Date'].dt.isocalendar().week\r\n",
        "df['day_of_year'] = df['Date'].dt.dayofyear"
      ],
      "execution_count": null,
      "outputs": []
    },
    {
      "cell_type": "code",
      "metadata": {
        "id": "vZJIpc7ZGpkc"
      },
      "source": [
        "df['year'] = (df['year']-2014)\r\n",
        "df['dayper_medicine'] = 1/(df['day']/df['medicine'])\r\n",
        "df['monthper_medicine'] = 1/(df['month']/df['medicine'])\r\n",
        "df['weekday_permedicine'] = 1/(df['day_of_week']/df['medicine'])\r\n",
        "df['day_of_year_permedicine'] = 1/(df['day_of_year']/df['medicine'])\r\n",
        "#df['city_per_medicine'] = 1/(df['city']/df['medicine'])"
      ],
      "execution_count": null,
      "outputs": []
    },
    {
      "cell_type": "code",
      "metadata": {
        "id": "kuqIKermuKlz"
      },
      "source": [
        "df_test['Date'] = date_time\r\n",
        "#discount_data['date'] = pd.to_datetime(discount_data['date'])\r\n",
        "df_test['day_of_week'] = df_test['Date'].dt.weekday\r\n",
        "#df_test['week_of_year'] = df_test['Date'].dt.isocalendar().week\r\n",
        "df_test['day_of_year'] = df_test['Date'].dt.dayofyear\r\n",
        "df_test['year'] = (df_test['year']-2014)"
      ],
      "execution_count": null,
      "outputs": []
    },
    {
      "cell_type": "code",
      "metadata": {
        "id": "ehltHwl-O7jH"
      },
      "source": [
        "df_test['dayper_medicine'] = 1/(df_test['day']/df_test['medicine'])\r\n",
        "df_test['monthper_medicine'] = 1/(df_test['month']/df_test['medicine'])\r\n",
        "df_test['weekday_permedicine'] = 1/(df_test['day_of_week']/df_test['medicine'])\r\n",
        "df_test['day_of_year_permedicine'] = 1/(df_test['day_of_year']/df_test['medicine'])\r\n",
        "#df_test['city_per_medicine'] = 1/(df_test['city']/df_test['medicine'])"
      ],
      "execution_count": null,
      "outputs": []
    },
    {
      "cell_type": "code",
      "metadata": {
        "id": "r_QodlrNZmAJ"
      },
      "source": [
        "df['derived'] = df['year'] * df['day'] *df['month']*df['city']/df['medicine']\r\n",
        "df_test['derived'] = df_test['year'] * df_test['day'] *df_test['month']*df_test['city']/df_test['medicine']"
      ],
      "execution_count": null,
      "outputs": []
    },
    {
      "cell_type": "code",
      "metadata": {
        "id": "HPH2SS4wAUq_"
      },
      "source": [
        "df['derived1'] = df['medicine'] / df['city'] / df['day']\r\n",
        "df_test['derived1'] = df_test['medicine'] / df_test['city'] / df_test['day']"
      ],
      "execution_count": null,
      "outputs": []
    },
    {
      "cell_type": "code",
      "metadata": {
        "id": "-ypM9-CpAxF0"
      },
      "source": [
        "df['derived2'] = df['medicine'] / df['city'] / df['day_of_year']\r\n",
        "df_test['derived2'] = df_test['medicine'] / df_test['city'] / df_test['day_of_year']"
      ],
      "execution_count": null,
      "outputs": []
    },
    {
      "cell_type": "code",
      "metadata": {
        "id": "fZ_ltuhfVcZR"
      },
      "source": [
        "import matplotlib.pyplot as plt\r\n",
        "# load dataset\r\n",
        "df_values = df.values\r\n",
        "# specify columns to plot\r\n",
        "groups = [0, 1, 2, 3, 4, 5,6,7]\r\n",
        "i = 1\r\n",
        "# plot each column\r\n",
        "plt.figure()\r\n",
        "for group in groups:\r\n",
        "\tplt.subplot(len(groups), 1, i)\r\n",
        "\tplt.plot(df_values[:, group])\r\n",
        "\tplt.title(df.columns[group], y=0.5, loc='right')\r\n",
        "\ti += 1\r\n",
        "plt.show()"
      ],
      "execution_count": null,
      "outputs": []
    },
    {
      "cell_type": "code",
      "metadata": {
        "id": "Fp3mfMv5VTeF"
      },
      "source": [
        "corr_coefs = df.corr()\r\n",
        "print(\"--------Wholesome Correlation matrix---------\")\r\n",
        "print(corr_coefs)"
      ],
      "execution_count": null,
      "outputs": []
    },
    {
      "cell_type": "code",
      "metadata": {
        "id": "nTVm9nF4ZnRe"
      },
      "source": [
        "df.describe()"
      ],
      "execution_count": null,
      "outputs": []
    },
    {
      "cell_type": "code",
      "metadata": {
        "colab": {
          "base_uri": "https://localhost:8080/",
          "height": 304
        },
        "id": "Dky68EFhZ4rE",
        "outputId": "b316a33d-b4b1-4550-eae1-bcf7dc745e23"
      },
      "source": [
        "df = df.dropna(axis=0)\r\n",
        "df.describe()"
      ],
      "execution_count": null,
      "outputs": [
        {
          "output_type": "execute_result",
          "data": {
            "text/html": [
              "<div>\n",
              "<style scoped>\n",
              "    .dataframe tbody tr th:only-of-type {\n",
              "        vertical-align: middle;\n",
              "    }\n",
              "\n",
              "    .dataframe tbody tr th {\n",
              "        vertical-align: top;\n",
              "    }\n",
              "\n",
              "    .dataframe thead th {\n",
              "        text-align: right;\n",
              "    }\n",
              "</style>\n",
              "<table border=\"1\" class=\"dataframe\">\n",
              "  <thead>\n",
              "    <tr style=\"text-align: right;\">\n",
              "      <th></th>\n",
              "      <th>year</th>\n",
              "      <th>month</th>\n",
              "      <th>day</th>\n",
              "      <th>city</th>\n",
              "      <th>medicine</th>\n",
              "      <th>sales</th>\n",
              "      <th>day_of_week</th>\n",
              "      <th>day_of_year</th>\n",
              "      <th>dayper_medicine</th>\n",
              "      <th>monthper_medicine</th>\n",
              "      <th>weekday_permedicine</th>\n",
              "      <th>day_of_year_permedicine</th>\n",
              "      <th>derived</th>\n",
              "      <th>derived1</th>\n",
              "      <th>derived2</th>\n",
              "    </tr>\n",
              "  </thead>\n",
              "  <tbody>\n",
              "    <tr>\n",
              "      <th>count</th>\n",
              "      <td>2.262434e+07</td>\n",
              "      <td>2.262434e+07</td>\n",
              "      <td>2.262434e+07</td>\n",
              "      <td>2.262434e+07</td>\n",
              "      <td>2.262434e+07</td>\n",
              "      <td>2.262434e+07</td>\n",
              "      <td>2.262434e+07</td>\n",
              "      <td>2.262434e+07</td>\n",
              "      <td>2.262434e+07</td>\n",
              "      <td>2.262434e+07</td>\n",
              "      <td>2.262434e+07</td>\n",
              "      <td>2.262434e+07</td>\n",
              "      <td>2.262434e+07</td>\n",
              "      <td>2.262434e+07</td>\n",
              "      <td>2.262434e+07</td>\n",
              "    </tr>\n",
              "    <tr>\n",
              "      <th>mean</th>\n",
              "      <td>2.510319e+00</td>\n",
              "      <td>6.220520e+00</td>\n",
              "      <td>1.572557e+01</td>\n",
              "      <td>5.488639e+00</td>\n",
              "      <td>1.169635e+03</td>\n",
              "      <td>5.166032e+01</td>\n",
              "      <td>2.965776e+00</td>\n",
              "      <td>1.739345e+02</td>\n",
              "      <td>1.519665e+02</td>\n",
              "      <td>3.158610e+02</td>\n",
              "      <td>inf</td>\n",
              "      <td>1.906766e+01</td>\n",
              "      <td>4.594041e+00</td>\n",
              "      <td>4.427838e+01</td>\n",
              "      <td>5.563098e+00</td>\n",
              "    </tr>\n",
              "    <tr>\n",
              "      <th>std</th>\n",
              "      <td>1.023379e+00</td>\n",
              "      <td>3.449989e+00</td>\n",
              "      <td>8.789664e+00</td>\n",
              "      <td>2.849396e+00</td>\n",
              "      <td>8.016848e+02</td>\n",
              "      <td>1.100297e+02</td>\n",
              "      <td>1.994729e+00</td>\n",
              "      <td>1.054039e+02</td>\n",
              "      <td>2.806090e+02</td>\n",
              "      <td>4.252030e+02</td>\n",
              "      <td>NaN</td>\n",
              "      <td>6.049095e+01</td>\n",
              "      <td>5.084416e+01</td>\n",
              "      <td>1.167807e+02</td>\n",
              "      <td>2.418246e+01</td>\n",
              "    </tr>\n",
              "    <tr>\n",
              "      <th>min</th>\n",
              "      <td>1.000000e+00</td>\n",
              "      <td>1.000000e+00</td>\n",
              "      <td>1.000000e+00</td>\n",
              "      <td>1.000000e+00</td>\n",
              "      <td>1.000000e+00</td>\n",
              "      <td>-9.948000e+03</td>\n",
              "      <td>0.000000e+00</td>\n",
              "      <td>2.000000e+00</td>\n",
              "      <td>3.225806e-02</td>\n",
              "      <td>8.333333e-02</td>\n",
              "      <td>1.666667e-01</td>\n",
              "      <td>2.732240e-03</td>\n",
              "      <td>1.384083e-03</td>\n",
              "      <td>3.225806e-03</td>\n",
              "      <td>2.732240e-04</td>\n",
              "    </tr>\n",
              "    <tr>\n",
              "      <th>25%</th>\n",
              "      <td>2.000000e+00</td>\n",
              "      <td>3.000000e+00</td>\n",
              "      <td>8.000000e+00</td>\n",
              "      <td>3.000000e+00</td>\n",
              "      <td>5.110000e+02</td>\n",
              "      <td>1.200000e+01</td>\n",
              "      <td>1.000000e+00</td>\n",
              "      <td>8.300000e+01</td>\n",
              "      <td>3.268182e+01</td>\n",
              "      <td>8.408333e+01</td>\n",
              "      <td>1.730000e+02</td>\n",
              "      <td>3.015228e+00</td>\n",
              "      <td>2.724014e-01</td>\n",
              "      <td>6.073892e+00</td>\n",
              "      <td>5.606242e-01</td>\n",
              "    </tr>\n",
              "    <tr>\n",
              "      <th>50%</th>\n",
              "      <td>3.000000e+00</td>\n",
              "      <td>6.000000e+00</td>\n",
              "      <td>1.600000e+01</td>\n",
              "      <td>5.000000e+00</td>\n",
              "      <td>1.034000e+03</td>\n",
              "      <td>2.800000e+01</td>\n",
              "      <td>3.000000e+00</td>\n",
              "      <td>1.650000e+02</td>\n",
              "      <td>7.076923e+01</td>\n",
              "      <td>1.795000e+02</td>\n",
              "      <td>3.895000e+02</td>\n",
              "      <td>6.498551e+00</td>\n",
              "      <td>7.934835e-01</td>\n",
              "      <td>1.462500e+01</td>\n",
              "      <td>1.348148e+00</td>\n",
              "    </tr>\n",
              "    <tr>\n",
              "      <th>75%</th>\n",
              "      <td>3.000000e+00</td>\n",
              "      <td>9.000000e+00</td>\n",
              "      <td>2.300000e+01</td>\n",
              "      <td>8.000000e+00</td>\n",
              "      <td>1.718000e+03</td>\n",
              "      <td>5.600000e+01</td>\n",
              "      <td>5.000000e+00</td>\n",
              "      <td>2.660000e+02</td>\n",
              "      <td>1.440000e+02</td>\n",
              "      <td>3.486667e+02</td>\n",
              "      <td>9.950000e+02</td>\n",
              "      <td>1.358824e+01</td>\n",
              "      <td>2.109091e+00</td>\n",
              "      <td>3.760714e+01</td>\n",
              "      <td>3.603448e+00</td>\n",
              "    </tr>\n",
              "    <tr>\n",
              "      <th>max</th>\n",
              "      <td>4.000000e+00</td>\n",
              "      <td>1.200000e+01</td>\n",
              "      <td>3.100000e+01</td>\n",
              "      <td>1.000000e+01</td>\n",
              "      <td>3.389000e+03</td>\n",
              "      <td>8.299200e+04</td>\n",
              "      <td>6.000000e+00</td>\n",
              "      <td>3.660000e+02</td>\n",
              "      <td>3.359000e+03</td>\n",
              "      <td>3.225000e+03</td>\n",
              "      <td>inf</td>\n",
              "      <td>1.603000e+03</td>\n",
              "      <td>1.116000e+04</td>\n",
              "      <td>3.356000e+03</td>\n",
              "      <td>1.599500e+03</td>\n",
              "    </tr>\n",
              "  </tbody>\n",
              "</table>\n",
              "</div>"
            ],
            "text/plain": [
              "               year         month  ...      derived1      derived2\n",
              "count  2.262434e+07  2.262434e+07  ...  2.262434e+07  2.262434e+07\n",
              "mean   2.510319e+00  6.220520e+00  ...  4.427838e+01  5.563098e+00\n",
              "std    1.023379e+00  3.449989e+00  ...  1.167807e+02  2.418246e+01\n",
              "min    1.000000e+00  1.000000e+00  ...  3.225806e-03  2.732240e-04\n",
              "25%    2.000000e+00  3.000000e+00  ...  6.073892e+00  5.606242e-01\n",
              "50%    3.000000e+00  6.000000e+00  ...  1.462500e+01  1.348148e+00\n",
              "75%    3.000000e+00  9.000000e+00  ...  3.760714e+01  3.603448e+00\n",
              "max    4.000000e+00  1.200000e+01  ...  3.356000e+03  1.599500e+03\n",
              "\n",
              "[8 rows x 15 columns]"
            ]
          },
          "metadata": {
            "tags": []
          },
          "execution_count": 10
        }
      ]
    },
    {
      "cell_type": "code",
      "metadata": {
        "id": "hQc25539Vr1U"
      },
      "source": [
        "import warnings\r\n",
        "warnings.filterwarnings('always')\r\n",
        "warnings.filterwarnings('ignore')"
      ],
      "execution_count": null,
      "outputs": []
    },
    {
      "cell_type": "code",
      "metadata": {
        "colab": {
          "base_uri": "https://localhost:8080/",
          "height": 1000
        },
        "id": "5hcuPhUKV1U9",
        "outputId": "c6269e81-676c-4ecd-8ce7-595a91eb7efd"
      },
      "source": [
        "import matplotlib.pyplot as plt\r\n",
        "plt.hist2d(df['year'], df['sales'], bins=(50, 50), vmax=2000)\r\n",
        "plt.colorbar()\r\n",
        "plt.xlabel('year')\r\n",
        "plt.ylabel('sales')\r\n",
        "\r\n",
        "plt.figure()\r\n",
        "plt.hist2d(df['month'], df['sales'], bins=(50, 50), vmax=2000)\r\n",
        "plt.colorbar()\r\n",
        "plt.xlabel('month')\r\n",
        "plt.ylabel('sales')\r\n",
        "\r\n",
        "plt.figure()\r\n",
        "plt.hist2d(df['day'], df['sales'], bins=(50, 50), vmax=2000)\r\n",
        "plt.colorbar()\r\n",
        "plt.xlabel('day')\r\n",
        "plt.ylabel('sales')\r\n",
        "\r\n",
        "plt.figure()\r\n",
        "plt.hist2d(df['medicine'], df['sales'], bins=(50, 50), vmax=2000)\r\n",
        "plt.colorbar()\r\n",
        "plt.xlabel('medicine')\r\n",
        "plt.ylabel('sales')\r\n",
        "\r\n",
        "plt.figure()\r\n",
        "plt.hist2d(df['city'], df['sales'], bins=(50, 50), vmax=2000)\r\n",
        "plt.colorbar()\r\n",
        "plt.xlabel('city')\r\n",
        "plt.ylabel('sales')"
      ],
      "execution_count": null,
      "outputs": [
        {
          "output_type": "execute_result",
          "data": {
            "text/plain": [
              "Text(0, 0.5, 'sales')"
            ]
          },
          "metadata": {
            "tags": []
          },
          "execution_count": 15
        },
        {
          "output_type": "display_data",
          "data": {
            "image/png": "[encoded data removed]",
            "text/plain": [
              "<Figure size 432x288 with 2 Axes>"
            ]
          },
          "metadata": {
            "tags": [],
            "needs_background": "light"
          }
        },
        {
          "output_type": "display_data",
          "data": {
            "image/png": "[encoded data removed]",
            "text/plain": [
              "<Figure size 432x288 with 2 Axes>"
            ]
          },
          "metadata": {
            "tags": [],
            "needs_background": "light"
          }
        },
        {
          "output_type": "display_data",
          "data": {
            "image/png": "[encoded data removed]",
            "text/plain": [
              "<Figure size 432x288 with 2 Axes>"
            ]
          },
          "metadata": {
            "tags": [],
            "needs_background": "light"
          }
        },
        {
          "output_type": "display_data",
          "data": {
            "image/png": "[encoded data removed]",
            "text/plain": [
              "<Figure size 432x288 with 2 Axes>"
            ]
          },
          "metadata": {
            "tags": [],
            "needs_background": "light"
          }
        },
        {
          "output_type": "display_data",
          "data": {
            "image/png": "[encoded data removed]",
            "text/plain": [
              "<Figure size 432x288 with 2 Axes>"
            ]
          },
          "metadata": {
            "tags": [],
            "needs_background": "light"
          }
        }
      ]
    },
    {
      "cell_type": "code",
      "metadata": {
        "colab": {
          "base_uri": "https://localhost:8080/"
        },
        "id": "5M0KphSdbSUG",
        "outputId": "d155e603-fb6f-43e6-d5c5-66fbc3109e7e"
      },
      "source": [
        "df.pop('weekday_permedicine')"
      ],
      "execution_count": null,
      "outputs": [
        {
          "output_type": "execute_result",
          "data": {
            "text/plain": [
              "0             0.25\n",
              "1             0.50\n",
              "2             0.75\n",
              "3             1.00\n",
              "4             1.25\n",
              "             ...  \n",
              "22624340    611.20\n",
              "22624341    632.60\n",
              "22624342    632.80\n",
              "22624343    631.40\n",
              "22624344    633.00\n",
              "Name: weekday_permedicine, Length: 22624345, dtype: float64"
            ]
          },
          "metadata": {
            "tags": []
          },
          "execution_count": 11
        }
      ]
    },
    {
      "cell_type": "code",
      "metadata": {
        "colab": {
          "base_uri": "https://localhost:8080/"
        },
        "id": "bL4OYOIubZaY",
        "outputId": "a8710409-77cd-421d-ba13-7fd801bb4e24"
      },
      "source": [
        "df_test.pop('weekday_permedicine')"
      ],
      "execution_count": null,
      "outputs": [
        {
          "output_type": "execute_result",
          "data": {
            "text/plain": [
              "0         323.000000\n",
              "1           0.250000\n",
              "2           0.500000\n",
              "3           0.750000\n",
              "4           1.000000\n",
              "             ...    \n",
              "773530    527.166667\n",
              "773531    527.333333\n",
              "773532    526.166667\n",
              "773533    527.500000\n",
              "773534    509.500000\n",
              "Name: weekday_permedicine, Length: 773535, dtype: float64"
            ]
          },
          "metadata": {
            "tags": []
          },
          "execution_count": 12
        }
      ]
    },
    {
      "cell_type": "code",
      "metadata": {
        "colab": {
          "base_uri": "https://localhost:8080/"
        },
        "id": "omXlupVluoks",
        "outputId": "553cf424-64e8-4990-8831-e3e11034fb5e"
      },
      "source": [
        "df.pop('Date')\r\n",
        "df_test.pop('Date')"
      ],
      "execution_count": null,
      "outputs": [
        {
          "output_type": "execute_result",
          "data": {
            "text/plain": [
              "0        2015-01-02\n",
              "1        2015-01-02\n",
              "2        2015-01-02\n",
              "3        2015-01-02\n",
              "4        2015-01-02\n",
              "            ...    \n",
              "773530   2015-03-08\n",
              "773531   2015-03-08\n",
              "773532   2015-03-08\n",
              "773533   2015-03-08\n",
              "773534   2015-03-08\n",
              "Name: Date, Length: 773535, dtype: datetime64[ns]"
            ]
          },
          "metadata": {
            "tags": []
          },
          "execution_count": 13
        }
      ]
    },
    {
      "cell_type": "code",
      "metadata": {
        "colab": {
          "base_uri": "https://localhost:8080/"
        },
        "id": "GLJtOuzWLs8P",
        "outputId": "0354a72d-78f9-41ad-b67e-ea7e97f162a4"
      },
      "source": [
        "df.pop('day')\r\n",
        "df.pop('month')\r\n",
        "df.pop('year')\r\n",
        "df_test.pop('day')\r\n",
        "df_test.pop('month')\r\n",
        "df_test.pop('year')"
      ],
      "execution_count": null,
      "outputs": [
        {
          "output_type": "execute_result",
          "data": {
            "text/plain": [
              "0         4\n",
              "1         4\n",
              "2         4\n",
              "3         4\n",
              "4         4\n",
              "         ..\n",
              "773530    4\n",
              "773531    4\n",
              "773532    4\n",
              "773533    4\n",
              "773534    4\n",
              "Name: year, Length: 773535, dtype: int64"
            ]
          },
          "metadata": {
            "tags": []
          },
          "execution_count": 14
        }
      ]
    },
    {
      "cell_type": "code",
      "metadata": {
        "colab": {
          "base_uri": "https://localhost:8080/"
        },
        "id": "4tukPLffMQXM",
        "outputId": "3607fc39-d324-4143-815d-f7f792ea9678"
      },
      "source": [
        "df_test.pop('dayper_medicine')\r\n",
        "df.pop('dayper_medicine')"
      ],
      "execution_count": null,
      "outputs": [
        {
          "output_type": "execute_result",
          "data": {
            "text/plain": [
              "0             0.500000\n",
              "1             1.000000\n",
              "2             1.500000\n",
              "3             2.000000\n",
              "4             2.500000\n",
              "               ...    \n",
              "22624340    101.866667\n",
              "22624341    105.433333\n",
              "22624342    105.466667\n",
              "22624343    105.233333\n",
              "22624344    105.500000\n",
              "Name: dayper_medicine, Length: 22624345, dtype: float64"
            ]
          },
          "metadata": {
            "tags": []
          },
          "execution_count": 15
        }
      ]
    },
    {
      "cell_type": "markdown",
      "metadata": {
        "id": "Muzvm-HSTzeo"
      },
      "source": [
        "#**Split train dataset for training ML model.**"
      ]
    },
    {
      "cell_type": "code",
      "metadata": {
        "id": "nNht2EJZhHlG"
      },
      "source": [
        "column_indices = {name: i for i, name in enumerate(df.columns)}\r\n",
        "\r\n",
        "n = len(df)\r\n",
        "df_train = df[0:int(n*0.75)]\r\n",
        "val_df = df[int(n*0.75):int(n*0.95)]\r\n",
        "test_df = df[int(n*0.95):]\r\n",
        "\r\n",
        "num_features = df.shape[1]"
      ],
      "execution_count": null,
      "outputs": []
    },
    {
      "cell_type": "code",
      "metadata": {
        "colab": {
          "base_uri": "https://localhost:8080/"
        },
        "id": "4LYKA3oUiP5p",
        "outputId": "b87c9bf1-390b-429a-a878-a22b610916a9"
      },
      "source": [
        "y_train = df_train['sales'] \r\n",
        "y_val = val_df['sales']\r\n",
        "y_test = test_df['sales']\r\n",
        "y_train.head(5)"
      ],
      "execution_count": null,
      "outputs": [
        {
          "output_type": "execute_result",
          "data": {
            "text/plain": [
              "0     24.0\n",
              "1    144.0\n",
              "2     84.0\n",
              "3     24.0\n",
              "4      8.0\n",
              "Name: sales, dtype: float64"
            ]
          },
          "metadata": {
            "tags": []
          },
          "execution_count": 17
        }
      ]
    },
    {
      "cell_type": "code",
      "metadata": {
        "id": "sg8N2PM8jTvj"
      },
      "source": [
        "\r\n",
        "X_train = df_train.drop('sales',axis = 1)\r\n",
        "X_val = val_df.drop('sales',axis = 1)\r\n",
        "X_test = test_df.drop('sales',axis = 1)"
      ],
      "execution_count": null,
      "outputs": []
    },
    {
      "cell_type": "code",
      "metadata": {
        "id": "racEJO5ywA9T",
        "colab": {
          "base_uri": "https://localhost:8080/",
          "height": 195
        },
        "outputId": "646e31f6-ce15-4d7a-f422-6e7c8d9953e1"
      },
      "source": [
        "X_train.tail(5)"
      ],
      "execution_count": null,
      "outputs": [
        {
          "output_type": "execute_result",
          "data": {
            "text/html": [
              "<div>\n",
              "<style scoped>\n",
              "    .dataframe tbody tr th:only-of-type {\n",
              "        vertical-align: middle;\n",
              "    }\n",
              "\n",
              "    .dataframe tbody tr th {\n",
              "        vertical-align: top;\n",
              "    }\n",
              "\n",
              "    .dataframe thead th {\n",
              "        text-align: right;\n",
              "    }\n",
              "</style>\n",
              "<table border=\"1\" class=\"dataframe\">\n",
              "  <thead>\n",
              "    <tr style=\"text-align: right;\">\n",
              "      <th></th>\n",
              "      <th>city</th>\n",
              "      <th>medicine</th>\n",
              "      <th>day_of_week</th>\n",
              "      <th>day_of_year</th>\n",
              "      <th>monthper_medicine</th>\n",
              "      <th>day_of_year_permedicine</th>\n",
              "      <th>derived</th>\n",
              "      <th>derived1</th>\n",
              "      <th>derived2</th>\n",
              "    </tr>\n",
              "  </thead>\n",
              "  <tbody>\n",
              "    <tr>\n",
              "      <th>16968253</th>\n",
              "      <td>5</td>\n",
              "      <td>531</td>\n",
              "      <td>3</td>\n",
              "      <td>313</td>\n",
              "      <td>48.272727</td>\n",
              "      <td>1.696486</td>\n",
              "      <td>2.796610</td>\n",
              "      <td>11.800000</td>\n",
              "      <td>0.339297</td>\n",
              "    </tr>\n",
              "    <tr>\n",
              "      <th>16968254</th>\n",
              "      <td>5</td>\n",
              "      <td>532</td>\n",
              "      <td>3</td>\n",
              "      <td>313</td>\n",
              "      <td>48.363636</td>\n",
              "      <td>1.699681</td>\n",
              "      <td>2.791353</td>\n",
              "      <td>11.822222</td>\n",
              "      <td>0.339936</td>\n",
              "    </tr>\n",
              "    <tr>\n",
              "      <th>16968255</th>\n",
              "      <td>5</td>\n",
              "      <td>533</td>\n",
              "      <td>3</td>\n",
              "      <td>313</td>\n",
              "      <td>48.454545</td>\n",
              "      <td>1.702875</td>\n",
              "      <td>2.786116</td>\n",
              "      <td>11.844444</td>\n",
              "      <td>0.340575</td>\n",
              "    </tr>\n",
              "    <tr>\n",
              "      <th>16968256</th>\n",
              "      <td>5</td>\n",
              "      <td>535</td>\n",
              "      <td>3</td>\n",
              "      <td>313</td>\n",
              "      <td>48.636364</td>\n",
              "      <td>1.709265</td>\n",
              "      <td>2.775701</td>\n",
              "      <td>11.888889</td>\n",
              "      <td>0.341853</td>\n",
              "    </tr>\n",
              "    <tr>\n",
              "      <th>16968257</th>\n",
              "      <td>5</td>\n",
              "      <td>536</td>\n",
              "      <td>3</td>\n",
              "      <td>313</td>\n",
              "      <td>48.727273</td>\n",
              "      <td>1.712460</td>\n",
              "      <td>2.770522</td>\n",
              "      <td>11.911111</td>\n",
              "      <td>0.342492</td>\n",
              "    </tr>\n",
              "  </tbody>\n",
              "</table>\n",
              "</div>"
            ],
            "text/plain": [
              "          city  medicine  day_of_week  ...   derived   derived1  derived2\n",
              "16968253     5       531            3  ...  2.796610  11.800000  0.339297\n",
              "16968254     5       532            3  ...  2.791353  11.822222  0.339936\n",
              "16968255     5       533            3  ...  2.786116  11.844444  0.340575\n",
              "16968256     5       535            3  ...  2.775701  11.888889  0.341853\n",
              "16968257     5       536            3  ...  2.770522  11.911111  0.342492\n",
              "\n",
              "[5 rows x 9 columns]"
            ]
          },
          "metadata": {
            "tags": []
          },
          "execution_count": 19
        }
      ]
    },
    {
      "cell_type": "code",
      "metadata": {
        "id": "M7uiG5aNmZZU",
        "colab": {
          "base_uri": "https://localhost:8080/",
          "height": 195
        },
        "outputId": "4ba0d356-9e08-4b96-8696-b4db5093d5eb"
      },
      "source": [
        "X_test.head(5)"
      ],
      "execution_count": null,
      "outputs": [
        {
          "output_type": "execute_result",
          "data": {
            "text/html": [
              "<div>\n",
              "<style scoped>\n",
              "    .dataframe tbody tr th:only-of-type {\n",
              "        vertical-align: middle;\n",
              "    }\n",
              "\n",
              "    .dataframe tbody tr th {\n",
              "        vertical-align: top;\n",
              "    }\n",
              "\n",
              "    .dataframe thead th {\n",
              "        text-align: right;\n",
              "    }\n",
              "</style>\n",
              "<table border=\"1\" class=\"dataframe\">\n",
              "  <thead>\n",
              "    <tr style=\"text-align: right;\">\n",
              "      <th></th>\n",
              "      <th>city</th>\n",
              "      <th>medicine</th>\n",
              "      <th>day_of_week</th>\n",
              "      <th>day_of_year</th>\n",
              "      <th>monthper_medicine</th>\n",
              "      <th>day_of_year_permedicine</th>\n",
              "      <th>derived</th>\n",
              "      <th>derived1</th>\n",
              "      <th>derived2</th>\n",
              "    </tr>\n",
              "  </thead>\n",
              "  <tbody>\n",
              "    <tr>\n",
              "      <th>21493127</th>\n",
              "      <td>5</td>\n",
              "      <td>292</td>\n",
              "      <td>1</td>\n",
              "      <td>135</td>\n",
              "      <td>58.4</td>\n",
              "      <td>2.162963</td>\n",
              "      <td>5.136986</td>\n",
              "      <td>3.893333</td>\n",
              "      <td>0.432593</td>\n",
              "    </tr>\n",
              "    <tr>\n",
              "      <th>21493128</th>\n",
              "      <td>5</td>\n",
              "      <td>293</td>\n",
              "      <td>1</td>\n",
              "      <td>135</td>\n",
              "      <td>58.6</td>\n",
              "      <td>2.170370</td>\n",
              "      <td>5.119454</td>\n",
              "      <td>3.906667</td>\n",
              "      <td>0.434074</td>\n",
              "    </tr>\n",
              "    <tr>\n",
              "      <th>21493129</th>\n",
              "      <td>5</td>\n",
              "      <td>294</td>\n",
              "      <td>1</td>\n",
              "      <td>135</td>\n",
              "      <td>58.8</td>\n",
              "      <td>2.177778</td>\n",
              "      <td>5.102041</td>\n",
              "      <td>3.920000</td>\n",
              "      <td>0.435556</td>\n",
              "    </tr>\n",
              "    <tr>\n",
              "      <th>21493130</th>\n",
              "      <td>5</td>\n",
              "      <td>295</td>\n",
              "      <td>1</td>\n",
              "      <td>135</td>\n",
              "      <td>59.0</td>\n",
              "      <td>2.185185</td>\n",
              "      <td>5.084746</td>\n",
              "      <td>3.933333</td>\n",
              "      <td>0.437037</td>\n",
              "    </tr>\n",
              "    <tr>\n",
              "      <th>21493131</th>\n",
              "      <td>5</td>\n",
              "      <td>296</td>\n",
              "      <td>1</td>\n",
              "      <td>135</td>\n",
              "      <td>59.2</td>\n",
              "      <td>2.192593</td>\n",
              "      <td>5.067568</td>\n",
              "      <td>3.946667</td>\n",
              "      <td>0.438519</td>\n",
              "    </tr>\n",
              "  </tbody>\n",
              "</table>\n",
              "</div>"
            ],
            "text/plain": [
              "          city  medicine  day_of_week  ...   derived  derived1  derived2\n",
              "21493127     5       292            1  ...  5.136986  3.893333  0.432593\n",
              "21493128     5       293            1  ...  5.119454  3.906667  0.434074\n",
              "21493129     5       294            1  ...  5.102041  3.920000  0.435556\n",
              "21493130     5       295            1  ...  5.084746  3.933333  0.437037\n",
              "21493131     5       296            1  ...  5.067568  3.946667  0.438519\n",
              "\n",
              "[5 rows x 9 columns]"
            ]
          },
          "metadata": {
            "tags": []
          },
          "execution_count": 20
        }
      ]
    },
    {
      "cell_type": "markdown",
      "metadata": {
        "id": "RsEORjVfrPxQ"
      },
      "source": [
        "#Baseline model: Decision Tree Regressor"
      ]
    },
    {
      "cell_type": "code",
      "metadata": {
        "colab": {
          "base_uri": "https://localhost:8080/"
        },
        "id": "j7SlJ81UUwDl",
        "outputId": "f80f08b5-ce64-4b00-887c-1ef25419feb7"
      },
      "source": [
        "from sklearn.tree import DecisionTreeRegressor\r\n",
        "\r\n",
        "DTR_model = DecisionTreeRegressor(random_state=1)\r\n",
        "# Fit Model\r\n",
        "DTR_model.fit(X_train, y_train)\r\n",
        "\r\n",
        "# Make validation predictions and calculate mean absolute error\r\n",
        "val_predictions = DTR_model.predict(X_val)\r\n",
        "# eval\r\n",
        "print('Validation rmse of prediction is:', mean_squared_error(val_predictions, y_val) ** 0.5)\r\n",
        "# Make validation predictions and calculate mean absolute error\r\n",
        "test_predictions = DTR_model.predict(X_test)\r\n",
        "# eval\r\n",
        "print('Test rmse of prediction is:', mean_squared_error(test_predictions, y_test) ** 0.5)"
      ],
      "execution_count": null,
      "outputs": [
        {
          "output_type": "stream",
          "text": [
            "Validation rmse of prediction is: 146.48848857866437\n",
            "Test rmse of prediction is: 96.5819845150338\n"
          ],
          "name": "stdout"
        }
      ]
    },
    {
      "cell_type": "markdown",
      "metadata": {
        "id": "bdICgbaErZNd"
      },
      "source": [
        "#Improved baseline model by getting the best max-leaf-nodes and applying the model was improved to 88.35"
      ]
    },
    {
      "cell_type": "code",
      "metadata": {
        "colab": {
          "base_uri": "https://localhost:8080/"
        },
        "id": "M-SJqq38lRRw",
        "outputId": "35786fbe-67ba-484c-b8de-758bd67f0fac"
      },
      "source": [
        "DTR_model = DecisionTreeRegressor(max_leaf_nodes=50,random_state=1)\r\n",
        "# Fit Model\r\n",
        "DTR_model.fit(X_train, y_train)\r\n",
        "\r\n",
        "# Make validation predictions and calculate mean absolute error\r\n",
        "val_predictions = DTR_model.predict(X_val)\r\n",
        "# eval\r\n",
        "print('Validation rmse of prediction is:', mean_squared_error(val_predictions, y_val) ** 0.5)\r\n",
        "# Make validation predictions and calculate mean absolute error\r\n",
        "test_predictions = DTR_model.predict(X_test)\r\n",
        "# eval\r\n",
        "print('Test rmse of prediction is:', mean_squared_error(test_predictions, y_test) ** 0.5)"
      ],
      "execution_count": null,
      "outputs": [
        {
          "output_type": "stream",
          "text": [
            "Validation rmse of prediction is: 120.53890999783061\n",
            "Test rmse of prediction is: 88.350056723026\n"
          ],
          "name": "stdout"
        }
      ]
    },
    {
      "cell_type": "markdown",
      "metadata": {
        "id": "aot7LZzSUJEX"
      },
      "source": [
        "#**After we improved the baseline models, we chose LightGBM model to improve the model even better. Declare the model (light GBM) for this purpose and validate. Metric RMSE was used for accuracy measurement and was used for callback / to stop training the model.**"
      ]
    },
    {
      "cell_type": "code",
      "metadata": {
        "colab": {
          "base_uri": "https://localhost:8080/"
        },
        "id": "DY3oSTMZf8Mc",
        "outputId": "0bdc0d94-22fc-4424-89fd-c6ddaf146ea1"
      },
      "source": [
        "import lightgbm as lgb\r\n",
        "# create dataset for lightgbm\r\n",
        "lgb_train = lgb.Dataset(X_train, y_train)\r\n",
        "#lgb_eval = lgb.Dataset(X_test, y_test, reference=lgb_train)\r\n",
        "lgb_eval = lgb.Dataset(X_val, y_val, reference=lgb_train)\r\n",
        "\r\n",
        "# specify your configurations as a dict\r\n",
        "params = {\r\n",
        "    'boosting_type': 'gbdt',\r\n",
        "    'objective': 'regression',\r\n",
        "    'metric': {'rmse'},\r\n",
        "    'num_leaves': 31,\r\n",
        "    'learning_rate': 0.09,\r\n",
        "    'feature_fraction': 0.84,\r\n",
        "    #'first_metric_only': True,\r\n",
        "    'bagging_fraction': 0.85,\r\n",
        "    'bagging_freq': 30,\r\n",
        "    'verbose': 0\r\n",
        "}\r\n",
        "\r\n",
        "print('Starting training...')\r\n",
        "# train\r\n",
        "gbm = lgb.train(params,\r\n",
        "                lgb_train,\r\n",
        "                num_boost_round=1500,\r\n",
        "                valid_sets=lgb_eval,\r\n",
        "                early_stopping_rounds=5)\r\n",
        "\r\n",
        "print('Saving model...')\r\n",
        "# save model to file\r\n",
        "gbm.save_model('model.txt')\r\n",
        "\r\n",
        "print('Starting predicting...')\r\n",
        "# predict\r\n",
        "y_pred = gbm.predict(X_test, num_iteration=gbm.best_iteration)\r\n",
        "# eval\r\n",
        "print('The rmse of prediction is:', mean_squared_error(y_test, y_pred) ** 0.5)"
      ],
      "execution_count": null,
      "outputs": [
        {
          "output_type": "stream",
          "text": [
            "Starting training...\n",
            "[1]\tvalid_0's rmse: 126.92\n",
            "Training until validation scores don't improve for 5 rounds.\n",
            "[2]\tvalid_0's rmse: 126.29\n",
            "[3]\tvalid_0's rmse: 126.166\n",
            "[4]\tvalid_0's rmse: 126.057\n",
            "[5]\tvalid_0's rmse: 125.6\n",
            "[6]\tvalid_0's rmse: 125.165\n",
            "[7]\tvalid_0's rmse: 124.822\n",
            "[8]\tvalid_0's rmse: 124.553\n",
            "[9]\tvalid_0's rmse: 124.517\n",
            "[10]\tvalid_0's rmse: 124.291\n",
            "[11]\tvalid_0's rmse: 124.077\n",
            "[12]\tvalid_0's rmse: 123.857\n",
            "[13]\tvalid_0's rmse: 123.672\n",
            "[14]\tvalid_0's rmse: 123.623\n",
            "[15]\tvalid_0's rmse: 123.564\n",
            "[16]\tvalid_0's rmse: 123.528\n",
            "[17]\tvalid_0's rmse: 123.378\n",
            "[18]\tvalid_0's rmse: 123.232\n",
            "[19]\tvalid_0's rmse: 123.129\n",
            "[20]\tvalid_0's rmse: 123.116\n",
            "[21]\tvalid_0's rmse: 123.09\n",
            "[22]\tvalid_0's rmse: 122.956\n",
            "[23]\tvalid_0's rmse: 122.863\n",
            "[24]\tvalid_0's rmse: 122.816\n",
            "[25]\tvalid_0's rmse: 122.795\n",
            "[26]\tvalid_0's rmse: 122.751\n",
            "[27]\tvalid_0's rmse: 122.737\n",
            "[28]\tvalid_0's rmse: 122.637\n",
            "[29]\tvalid_0's rmse: 122.585\n",
            "[30]\tvalid_0's rmse: 122.529\n",
            "[31]\tvalid_0's rmse: 122.459\n",
            "[32]\tvalid_0's rmse: 122.449\n",
            "[33]\tvalid_0's rmse: 122.419\n",
            "[34]\tvalid_0's rmse: 122.389\n",
            "[35]\tvalid_0's rmse: 122.313\n",
            "[36]\tvalid_0's rmse: 122.283\n",
            "[37]\tvalid_0's rmse: 122.23\n",
            "[38]\tvalid_0's rmse: 122.184\n",
            "[39]\tvalid_0's rmse: 122.15\n",
            "[40]\tvalid_0's rmse: 122.129\n",
            "[41]\tvalid_0's rmse: 122.092\n",
            "[42]\tvalid_0's rmse: 122.091\n",
            "[43]\tvalid_0's rmse: 122.063\n",
            "[44]\tvalid_0's rmse: 122.009\n",
            "[45]\tvalid_0's rmse: 122.016\n",
            "[46]\tvalid_0's rmse: 121.978\n",
            "[47]\tvalid_0's rmse: 121.958\n",
            "[48]\tvalid_0's rmse: 121.934\n",
            "[49]\tvalid_0's rmse: 121.908\n",
            "[50]\tvalid_0's rmse: 121.882\n",
            "[51]\tvalid_0's rmse: 121.88\n",
            "[52]\tvalid_0's rmse: 121.856\n",
            "[53]\tvalid_0's rmse: 121.818\n",
            "[54]\tvalid_0's rmse: 121.787\n",
            "[55]\tvalid_0's rmse: 121.738\n",
            "[56]\tvalid_0's rmse: 121.722\n",
            "[57]\tvalid_0's rmse: 121.689\n",
            "[58]\tvalid_0's rmse: 121.691\n",
            "[59]\tvalid_0's rmse: 121.654\n",
            "[60]\tvalid_0's rmse: 121.638\n",
            "[61]\tvalid_0's rmse: 121.628\n",
            "[62]\tvalid_0's rmse: 121.6\n",
            "[63]\tvalid_0's rmse: 121.591\n",
            "[64]\tvalid_0's rmse: 121.579\n",
            "[65]\tvalid_0's rmse: 121.569\n",
            "[66]\tvalid_0's rmse: 121.566\n",
            "[67]\tvalid_0's rmse: 121.563\n",
            "[68]\tvalid_0's rmse: 121.55\n",
            "[69]\tvalid_0's rmse: 121.541\n",
            "[70]\tvalid_0's rmse: 121.516\n",
            "[71]\tvalid_0's rmse: 121.525\n",
            "[72]\tvalid_0's rmse: 121.529\n",
            "[73]\tvalid_0's rmse: 121.518\n",
            "[74]\tvalid_0's rmse: 121.518\n",
            "[75]\tvalid_0's rmse: 121.492\n",
            "[76]\tvalid_0's rmse: 121.476\n",
            "[77]\tvalid_0's rmse: 121.425\n",
            "[78]\tvalid_0's rmse: 121.369\n",
            "[79]\tvalid_0's rmse: 121.374\n",
            "[80]\tvalid_0's rmse: 121.35\n",
            "[81]\tvalid_0's rmse: 121.339\n",
            "[82]\tvalid_0's rmse: 121.329\n",
            "[83]\tvalid_0's rmse: 121.311\n",
            "[84]\tvalid_0's rmse: 121.28\n",
            "[85]\tvalid_0's rmse: 121.278\n",
            "[86]\tvalid_0's rmse: 121.302\n",
            "[87]\tvalid_0's rmse: 121.299\n",
            "[88]\tvalid_0's rmse: 121.286\n",
            "[89]\tvalid_0's rmse: 121.27\n",
            "[90]\tvalid_0's rmse: 121.263\n",
            "[91]\tvalid_0's rmse: 121.243\n",
            "[92]\tvalid_0's rmse: 121.227\n",
            "[93]\tvalid_0's rmse: 121.211\n",
            "[94]\tvalid_0's rmse: 121.262\n",
            "[95]\tvalid_0's rmse: 121.246\n",
            "[96]\tvalid_0's rmse: 121.241\n",
            "[97]\tvalid_0's rmse: 121.238\n",
            "[98]\tvalid_0's rmse: 121.22\n",
            "Early stopping, best iteration is:\n",
            "[93]\tvalid_0's rmse: 121.211\n",
            "Saving model...\n",
            "Starting predicting...\n",
            "The rmse of prediction is: 90.52408011817322\n"
          ],
          "name": "stdout"
        }
      ]
    },
    {
      "cell_type": "markdown",
      "metadata": {
        "id": "xQCSZ1bmtb6m"
      },
      "source": [
        "As the training time for lightGBM was less than decisiontree and the reduction in RMSE is also consistent, we chose lightGBM model over decisionTree."
      ]
    },
    {
      "cell_type": "markdown",
      "metadata": {
        "id": "Px9DZwuhUs6J"
      },
      "source": [
        "#**Use the model to predict the sales for test dataset.**"
      ]
    },
    {
      "cell_type": "code",
      "metadata": {
        "colab": {
          "base_uri": "https://localhost:8080/"
        },
        "id": "9_5LWo91MBw-",
        "outputId": "4613aaa6-5c66-4d06-f662-f1c7a14217a5"
      },
      "source": [
        "ID = df_test['id']\r\n",
        "df_test.pop('id')"
      ],
      "execution_count": null,
      "outputs": [
        {
          "output_type": "execute_result",
          "data": {
            "text/plain": [
              "0              1\n",
              "1              2\n",
              "2              3\n",
              "3              4\n",
              "4              5\n",
              "           ...  \n",
              "773530    773531\n",
              "773531    773532\n",
              "773532    773533\n",
              "773533    773534\n",
              "773534    773535\n",
              "Name: id, Length: 773535, dtype: int64"
            ]
          },
          "metadata": {
            "tags": []
          },
          "execution_count": 20
        }
      ]
    },
    {
      "cell_type": "code",
      "metadata": {
        "id": "Jp0hMzCRMRkV"
      },
      "source": [
        "df_test.head(5)"
      ],
      "execution_count": null,
      "outputs": []
    },
    {
      "cell_type": "code",
      "metadata": {
        "colab": {
          "base_uri": "https://localhost:8080/"
        },
        "id": "M66R9r-9Ksf_",
        "outputId": "a7430a2a-0987-41df-fca0-c3aa548f4a15"
      },
      "source": [
        "print('Starting prediction...')\r\n",
        "y_pred1 = gbm.predict(df_test, num_iteration=gbm.best_iteration)\r\n",
        "print(y_pred1)"
      ],
      "execution_count": null,
      "outputs": [
        {
          "output_type": "stream",
          "text": [
            "Starting prediction...\n",
            "[47.19835149 58.27784257 60.63562383 ... 35.00405083 35.00405083\n",
            " 32.21225639]\n"
          ],
          "name": "stdout"
        }
      ]
    },
    {
      "cell_type": "code",
      "metadata": {
        "id": "7NGb7AnNLyN-"
      },
      "source": [
        "df_test.head(5)"
      ],
      "execution_count": null,
      "outputs": []
    },
    {
      "cell_type": "code",
      "metadata": {
        "colab": {
          "base_uri": "https://localhost:8080/",
          "height": 195
        },
        "id": "Id9oaFsULK0F",
        "outputId": "81b2786e-9363-4a3c-bb07-e8d12c84a2a9"
      },
      "source": [
        "dict_ofsubmission = {'id':ID,\r\n",
        "                     'sales':y_pred1}\r\n",
        "submission_df = pd.DataFrame.from_dict(dict_ofsubmission)\r\n",
        "submission_df.to_csv('submission_sales.csv')                                                                                                                                                                                                   \r\n",
        "submission_df.head()                                                                                                                                                                                                                        "
      ],
      "execution_count": null,
      "outputs": [
        {
          "output_type": "execute_result",
          "data": {
            "text/html": [
              "<div>\n",
              "<style scoped>\n",
              "    .dataframe tbody tr th:only-of-type {\n",
              "        vertical-align: middle;\n",
              "    }\n",
              "\n",
              "    .dataframe tbody tr th {\n",
              "        vertical-align: top;\n",
              "    }\n",
              "\n",
              "    .dataframe thead th {\n",
              "        text-align: right;\n",
              "    }\n",
              "</style>\n",
              "<table border=\"1\" class=\"dataframe\">\n",
              "  <thead>\n",
              "    <tr style=\"text-align: right;\">\n",
              "      <th></th>\n",
              "      <th>id</th>\n",
              "      <th>sales</th>\n",
              "    </tr>\n",
              "  </thead>\n",
              "  <tbody>\n",
              "    <tr>\n",
              "      <th>0</th>\n",
              "      <td>1</td>\n",
              "      <td>47.198351</td>\n",
              "    </tr>\n",
              "    <tr>\n",
              "      <th>1</th>\n",
              "      <td>2</td>\n",
              "      <td>58.277843</td>\n",
              "    </tr>\n",
              "    <tr>\n",
              "      <th>2</th>\n",
              "      <td>3</td>\n",
              "      <td>60.635624</td>\n",
              "    </tr>\n",
              "    <tr>\n",
              "      <th>3</th>\n",
              "      <td>4</td>\n",
              "      <td>60.635624</td>\n",
              "    </tr>\n",
              "    <tr>\n",
              "      <th>4</th>\n",
              "      <td>5</td>\n",
              "      <td>61.498569</td>\n",
              "    </tr>\n",
              "  </tbody>\n",
              "</table>\n",
              "</div>"
            ],
            "text/plain": [
              "   id      sales\n",
              "0   1  47.198351\n",
              "1   2  58.277843\n",
              "2   3  60.635624\n",
              "3   4  60.635624\n",
              "4   5  61.498569"
            ]
          },
          "metadata": {
            "tags": []
          },
          "execution_count": 24
        }
      ]
    }
  ]
}
